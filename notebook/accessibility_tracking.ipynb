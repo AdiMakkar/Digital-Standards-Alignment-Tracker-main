{
 "cells": [
  {
   "cell_type": "code",
   "execution_count": 1,
   "metadata": {},
   "outputs": [],
   "source": [
    "import pandas as pd\n",
    "import plotly.express as px\n",
    "import plotly.graph_objs as go\n",
    "import csv\n",
    "\n",
    "\n",
    "#with open(\"accesssibility_tracking_data.csv\") as f:\n",
    "#    reader = csv.reader(f)\n",
    "#    for row in reader:\n",
    "#        print(\" \".join(row))"
   ]
  },
  {
   "cell_type": "code",
   "execution_count": 2,
   "metadata": {},
   "outputs": [],
   "source": [
    "def read_cell(x, y):\n",
    "    with open(\"accesssibility_tracking_data.csv\", 'r') as f:\n",
    "        reader = csv.reader(f)\n",
    "        y_count = 0\n",
    "        for n in reader:\n",
    "            if y_count == y:\n",
    "                cell = n[x]\n",
    "                return cell\n",
    "            y_count += 1\n",
    "\n",
    "#print (read_cell(0, 1)) "
   ]
  },
  {
   "cell_type": "code",
   "execution_count": 12,
   "metadata": {},
   "outputs": [],
   "source": [
    "def accessibilitySideStack (mobile_accessibility, desktop_accessibility, writeTo):\n",
    "    years = ['2020', '2021', '2022']\n",
    "    MOBILE = mobile_accessibility\n",
    "    DESKTOP = desktop_accessibility\n",
    "\n",
    "    trace1 = go.Bar(\n",
    "        x = years,\n",
    "        y = MOBILE,\n",
    "        name = 'Mobile Accessibility'\n",
    "    )\n",
    "\n",
    "    trace2 = go.Bar(\n",
    "        x = years,\n",
    "        y = DESKTOP,\n",
    "        name = 'Desktop Accessibility'\n",
    "    )\n",
    "\n",
    "    data = [trace1, trace2]\n",
    "    layout = go.Layout(barmode = 'group')\n",
    "    fig = go.Figure (data = data, layout = layout)\n",
    "    fig.show()\n",
    "    fig.write_html(writeTo)"
   ]
  },
  {
   "cell_type": "code",
   "execution_count": 15,
   "metadata": {},
   "outputs": [
    {
     "name": "stderr",
     "output_type": "stream",
     "text": [
      "<>:2: SyntaxWarning: 'list' object is not callable; perhaps you missed a comma?\n",
      "<>:2: SyntaxWarning: 'list' object is not callable; perhaps you missed a comma?\n",
      "/var/folders/xz/z3m8cxzd37z77l2jfgz06mtm0000gn/T/ipykernel_80351/3947229001.py:2: SyntaxWarning: 'list' object is not callable; perhaps you missed a comma?\n",
      "  [(0), (read_cell(0, 1)), (0)]\n"
     ]
    },
    {
     "ename": "TypeError",
     "evalue": "'list' object is not callable",
     "output_type": "error",
     "traceback": [
      "\u001b[0;31m---------------------------------------------------------------------------\u001b[0m",
      "\u001b[0;31mTypeError\u001b[0m                                 Traceback (most recent call last)",
      "\u001b[0;32m/var/folders/xz/z3m8cxzd37z77l2jfgz06mtm0000gn/T/ipykernel_80351/3947229001.py\u001b[0m in \u001b[0;36m<module>\u001b[0;34m\u001b[0m\n\u001b[1;32m      1\u001b[0m accessibilitySideStack(\n\u001b[0;32m----> 2\u001b[0;31m     \u001b[0;34m[\u001b[0m\u001b[0;34m(\u001b[0m\u001b[0;36m0\u001b[0m\u001b[0;34m)\u001b[0m\u001b[0;34m,\u001b[0m \u001b[0;34m(\u001b[0m\u001b[0mread_cell\u001b[0m\u001b[0;34m(\u001b[0m\u001b[0;36m0\u001b[0m\u001b[0;34m,\u001b[0m \u001b[0;36m1\u001b[0m\u001b[0;34m)\u001b[0m\u001b[0;34m)\u001b[0m\u001b[0;34m,\u001b[0m \u001b[0;34m(\u001b[0m\u001b[0;36m0\u001b[0m\u001b[0;34m)\u001b[0m\u001b[0;34m]\u001b[0m\u001b[0;34m\u001b[0m\u001b[0;34m\u001b[0m\u001b[0m\n\u001b[0m\u001b[1;32m      3\u001b[0m         \u001b[0;34m(\u001b[0m\u001b[0;34m\"alignment-accessibility_sidestacked.html\"\u001b[0m\u001b[0;34m)\u001b[0m\u001b[0;34m\u001b[0m\u001b[0;34m\u001b[0m\u001b[0m\n\u001b[1;32m      4\u001b[0m )\n",
      "\u001b[0;31mTypeError\u001b[0m: 'list' object is not callable"
     ]
    }
   ],
   "source": [
    "accessibilitySideStack(\n",
    "    [(0), (read_cell(0, 1)), (0)],\n",
    "\t[(0), (read_cell(0, 2)), (0)],\n",
    "\t(\"alignment-accessibility_sidestacked.html\")\n",
    ")"
   ]
  }
 ],
 "metadata": {
  "interpreter": {
   "hash": "aee8b7b246df8f9039afb4144a1f6fd8d2ca17a180786b69acc140d282b71a49"
  },
  "kernelspec": {
   "display_name": "Python 3.9.6 64-bit",
   "language": "python",
   "name": "python3"
  },
  "language_info": {
   "codemirror_mode": {
    "name": "ipython",
    "version": 3
   },
   "file_extension": ".py",
   "mimetype": "text/x-python",
   "name": "python",
   "nbconvert_exporter": "python",
   "pygments_lexer": "ipython3",
   "version": "3.9.6"
  },
  "orig_nbformat": 4
 },
 "nbformat": 4,
 "nbformat_minor": 2
}
