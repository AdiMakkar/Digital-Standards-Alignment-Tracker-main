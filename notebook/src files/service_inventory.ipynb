{
 "cells": [
  {
   "cell_type": "code",
   "execution_count": 1,
   "metadata": {},
   "outputs": [],
   "source": [
    "import pandas as pd\n",
    "import plotly.express as px\n",
    "import plotly.graph_objs as go\n",
    "import csv\n",
    "\n",
    "my_df = pd.read_csv(\"Tracking_service_inventory.csv\", encoding = \"latin-1\") \n",
    "\n",
    "#with open(\"Tracking_service_inventory.csv\") as f:\n",
    "#    reader = csv.reader(f)\n",
    "#    for row in reader:\n",
    "#        print(\" \".join(row))"
   ]
  },
  {
   "cell_type": "code",
   "execution_count": 2,
   "metadata": {},
   "outputs": [],
   "source": [
    "def read_cell(x, y):\n",
    "    with open(\"Tracking_service_invetory.csv\", 'r') as f:\n",
    "        reader = csv.reader(f)\n",
    "        y_count = 0\n",
    "        for n in reader:\n",
    "            if y_count == y:\n",
    "                cell = n[x]\n",
    "                return cell\n",
    "            y_count += 1\n",
    "\n",
    "#print (read_cell(0, 1)) "
   ]
  }
 ],
 "metadata": {
  "interpreter": {
   "hash": "aee8b7b246df8f9039afb4144a1f6fd8d2ca17a180786b69acc140d282b71a49"
  },
  "kernelspec": {
   "display_name": "Python 3.9.6 64-bit",
   "name": "python3"
  },
  "language_info": {
   "codemirror_mode": {
    "name": "ipython",
    "version": 3
   },
   "file_extension": ".py",
   "mimetype": "text/x-python",
   "name": "python",
   "nbconvert_exporter": "python",
   "pygments_lexer": "ipython3",
   "version": "3.9.6"
  },
  "orig_nbformat": 4
 },
 "nbformat": 4,
 "nbformat_minor": 2
}
